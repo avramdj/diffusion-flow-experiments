{
 "cells": [
  {
   "cell_type": "code",
   "execution_count": 1,
   "id": "d6a47b30",
   "metadata": {},
   "outputs": [],
   "source": [
    "from modules import DiT_models"
   ]
  },
  {
   "cell_type": "code",
   "execution_count": 3,
   "id": "4c8592fc",
   "metadata": {},
   "outputs": [
    {
     "ename": "TypeCheckError",
     "evalue": "Type-check error whilst checking the parameters of modules.get_1d_sincos_pos_embed_from_grid.\nThe problem arose whilst typechecking parameter 'pos'.\nActual value: f32[1,4,4](numpy)\nExpected type: <class 'Float[ndarray, 'num_positions']'>.\n----------------------\nCalled with parameters: {'embed_dim': 192, 'pos': f32[1,4,4](numpy)}\nParameter annotations: (embed_dim: int, pos: Float[ndarray, 'num_positions']) -> Any.\n",
     "output_type": "error",
     "traceback": [
      "\u001b[31m---------------------------------------------------------------------------\u001b[39m",
      "\u001b[31mBeartypeCallHintParamViolation\u001b[39m            Traceback (most recent call last)",
      "    \u001b[31m[... skipping hidden 1 frame]\u001b[39m\n",
      "\u001b[36mFile \u001b[39m\u001b[32m<@beartype(modules.get_1d_sincos_pos_embed_from_grid) at 0x7aebf051dda0>:47\u001b[39m, in \u001b[36mget_1d_sincos_pos_embed_from_grid\u001b[39m\u001b[34m(__beartype_get_violation, __beartype_conf, __beartype_object_105742007517648, __beartype_check_meta, __beartype_func, *args, **kwargs)\u001b[39m\n",
      "\u001b[31mBeartypeCallHintParamViolation\u001b[39m: Function modules.get_1d_sincos_pos_embed_from_grid() parameter pos=\"array([[[0., 1., 2., 3.],\n        [0., 1., 2., 3.],\n        [0., 1., 2., 3.],\n        [0.,...)\" violates type hint <class 'jaxtyping.Float[ndarray, 'num_positions']'>, as this array has 3 dimensions, not the 1 expected by the type hint.",
      "\nDuring handling of the above exception, another exception occurred:\n",
      "\u001b[31mBeartypeCallHintParamViolation\u001b[39m            Traceback (most recent call last)",
      "\u001b[36mFile \u001b[39m\u001b[32m~/f/diffusion-flow-experiments/.venv/lib/python3.13/site-packages/jaxtyping/_decorator.py:753\u001b[39m, in \u001b[36m_get_problem_arg\u001b[39m\u001b[34m(param_signature, args, kwargs, arguments, module, typechecker)\u001b[39m\n\u001b[32m    752\u001b[39m \u001b[38;5;28;01mtry\u001b[39;00m:\n\u001b[32m--> \u001b[39m\u001b[32m753\u001b[39m     \u001b[43mfn\u001b[49m\u001b[43m(\u001b[49m\u001b[43m*\u001b[49m\u001b[43margs\u001b[49m\u001b[43m,\u001b[49m\u001b[43m \u001b[49m\u001b[43m*\u001b[49m\u001b[43m*\u001b[49m\u001b[43mkwargs\u001b[49m\u001b[43m)\u001b[49m\n\u001b[32m    754\u001b[39m \u001b[38;5;28;01mexcept\u001b[39;00m \u001b[38;5;167;01mException\u001b[39;00m \u001b[38;5;28;01mas\u001b[39;00m e:\n",
      "\u001b[36mFile \u001b[39m\u001b[32m<@beartype(modules.check_single_arg) at 0x7aebeebf9e40>:29\u001b[39m, in \u001b[36mcheck_single_arg\u001b[39m\u001b[34m(__beartype_object_105742007517648, __beartype_get_violation, __beartype_conf, __beartype_check_meta, __beartype_func, *args, **kwargs)\u001b[39m\n",
      "\u001b[31mBeartypeCallHintParamViolation\u001b[39m: Function modules.check_single_arg() parameter pos=\"array([[[0., 1., 2., 3.],\n        [0., 1., 2., 3.],\n        [0., 1., 2., 3.],\n        [0.,...)\" violates type hint <class 'jaxtyping.Float[ndarray, 'num_positions']'>, as this array has 3 dimensions, not the 1 expected by the type hint.",
      "\nThe above exception was the direct cause of the following exception:\n",
      "\u001b[31mTypeCheckError\u001b[39m                            Traceback (most recent call last)",
      "    \u001b[31m[... skipping hidden 1 frame]\u001b[39m\n",
      "\u001b[36mFile \u001b[39m\u001b[32m~/f/diffusion-flow-experiments/.venv/lib/python3.13/site-packages/jaxtyping/_decorator.py:756\u001b[39m, in \u001b[36m_get_problem_arg\u001b[39m\u001b[34m(param_signature, args, kwargs, arguments, module, typechecker)\u001b[39m\n\u001b[32m    755\u001b[39m         keep_value = _pformat(arguments[keep_name], short_self=\u001b[38;5;28;01mFalse\u001b[39;00m)\n\u001b[32m--> \u001b[39m\u001b[32m756\u001b[39m         \u001b[38;5;28;01mraise\u001b[39;00m TypeCheckError(\n\u001b[32m    757\u001b[39m             \u001b[33mf\u001b[39m\u001b[33m\"\u001b[39m\u001b[38;5;130;01m\\n\u001b[39;00m\u001b[33mThe problem arose whilst typechecking parameter \u001b[39m\u001b[33m'\u001b[39m\u001b[38;5;132;01m{\u001b[39;00mkeep_name\u001b[38;5;132;01m}\u001b[39;00m\u001b[33m'\u001b[39m\u001b[33m.\u001b[39m\u001b[38;5;130;01m\\n\u001b[39;00m\u001b[33m\"\u001b[39m\n\u001b[32m    758\u001b[39m             \u001b[33mf\u001b[39m\u001b[33m\"\u001b[39m\u001b[33mActual value: \u001b[39m\u001b[38;5;132;01m{\u001b[39;00mkeep_value\u001b[38;5;132;01m}\u001b[39;00m\u001b[38;5;130;01m\\n\u001b[39;00m\u001b[33m\"\u001b[39m\n\u001b[32m    759\u001b[39m             \u001b[33mf\u001b[39m\u001b[33m\"\u001b[39m\u001b[33mExpected type: \u001b[39m\u001b[38;5;132;01m{\u001b[39;00mkeep_annotation\u001b[38;5;132;01m}\u001b[39;00m\u001b[33m.\u001b[39m\u001b[33m\"\u001b[39m\n\u001b[32m    760\u001b[39m         ) \u001b[38;5;28;01mfrom\u001b[39;00m\u001b[38;5;250m \u001b[39m\u001b[34;01me\u001b[39;00m\n\u001b[32m    761\u001b[39m \u001b[38;5;28;01melse\u001b[39;00m:\n\u001b[32m    762\u001b[39m     \u001b[38;5;66;03m# Could not localise the problem to a single argument -- probably due to\u001b[39;00m\n\u001b[32m    763\u001b[39m     \u001b[38;5;66;03m# e.g. a mismatched typevar, which each individual argument is okay with.\u001b[39;00m\n",
      "\u001b[31mTypeCheckError\u001b[39m: \nThe problem arose whilst typechecking parameter 'pos'.\nActual value: f32[1,4,4](numpy)\nExpected type: <class 'Float[ndarray, 'num_positions']'>.",
      "\nThe above exception was the direct cause of the following exception:\n",
      "\u001b[31mTypeCheckError\u001b[39m                            Traceback (most recent call last)",
      "\u001b[36mCell\u001b[39m\u001b[36m \u001b[39m\u001b[32mIn[3]\u001b[39m\u001b[32m, line 1\u001b[39m\n\u001b[32m----> \u001b[39m\u001b[32m1\u001b[39m model = \u001b[43mDiT_models\u001b[49m\u001b[43m[\u001b[49m\u001b[33;43m\"\u001b[39;49m\u001b[33;43mDiT-S/8\u001b[39;49m\u001b[33;43m\"\u001b[39;49m\u001b[43m]\u001b[49m\u001b[43m(\u001b[49m\u001b[43m)\u001b[49m\n",
      "\u001b[36mFile \u001b[39m\u001b[32m~/f/diffusion-flow-experiments/src/modules.py:420\u001b[39m, in \u001b[36mDiT_S_8\u001b[39m\u001b[34m(**kwargs)\u001b[39m\n\u001b[32m    419\u001b[39m \u001b[38;5;28;01mdef\u001b[39;00m\u001b[38;5;250m \u001b[39m\u001b[34mDiT_S_8\u001b[39m(**kwargs):\n\u001b[32m--> \u001b[39m\u001b[32m420\u001b[39m     \u001b[38;5;28;01mreturn\u001b[39;00m \u001b[43mDiT\u001b[49m\u001b[43m(\u001b[49m\u001b[43mdepth\u001b[49m\u001b[43m=\u001b[49m\u001b[32;43m12\u001b[39;49m\u001b[43m,\u001b[49m\u001b[43m \u001b[49m\u001b[43mhidden_size\u001b[49m\u001b[43m=\u001b[49m\u001b[32;43m384\u001b[39;49m\u001b[43m,\u001b[49m\u001b[43m \u001b[49m\u001b[43mpatch_size\u001b[49m\u001b[43m=\u001b[49m\u001b[32;43m8\u001b[39;49m\u001b[43m,\u001b[49m\u001b[43m \u001b[49m\u001b[43mnum_heads\u001b[49m\u001b[43m=\u001b[49m\u001b[32;43m6\u001b[39;49m\u001b[43m,\u001b[49m\u001b[43m \u001b[49m\u001b[43m*\u001b[49m\u001b[43m*\u001b[49m\u001b[43mkwargs\u001b[49m\u001b[43m)\u001b[49m\n",
      "\u001b[36mFile \u001b[39m\u001b[32m~/f/diffusion-flow-experiments/src/modules.py:209\u001b[39m, in \u001b[36mDiT.__init__\u001b[39m\u001b[34m(self, input_size, patch_size, in_channels, hidden_size, depth, num_heads, mlp_ratio, class_dropout_prob, num_classes, learn_sigma)\u001b[39m\n\u001b[32m    205\u001b[39m \u001b[38;5;28mself\u001b[39m.blocks = nn.ModuleList(\n\u001b[32m    206\u001b[39m     [DiTBlock(hidden_size, num_heads, mlp_ratio=mlp_ratio) \u001b[38;5;28;01mfor\u001b[39;00m _ \u001b[38;5;129;01min\u001b[39;00m \u001b[38;5;28mrange\u001b[39m(depth)]\n\u001b[32m    207\u001b[39m )\n\u001b[32m    208\u001b[39m \u001b[38;5;28mself\u001b[39m.final_layer = FinalLayer(hidden_size, patch_size, \u001b[38;5;28mself\u001b[39m.out_channels)\n\u001b[32m--> \u001b[39m\u001b[32m209\u001b[39m \u001b[38;5;28;43mself\u001b[39;49m\u001b[43m.\u001b[49m\u001b[43minitialize_weights\u001b[49m\u001b[43m(\u001b[49m\u001b[43m)\u001b[49m\n",
      "\u001b[36mFile \u001b[39m\u001b[32m~/f/diffusion-flow-experiments/src/modules.py:222\u001b[39m, in \u001b[36mDiT.initialize_weights\u001b[39m\u001b[34m(self)\u001b[39m\n\u001b[32m    219\u001b[39m \u001b[38;5;28mself\u001b[39m.apply(_basic_init)\n\u001b[32m    221\u001b[39m \u001b[38;5;66;03m# Initialize (and freeze) pos_embed by sin-cos embedding:\u001b[39;00m\n\u001b[32m--> \u001b[39m\u001b[32m222\u001b[39m pos_embed = \u001b[43mget_2d_sincos_pos_embed\u001b[49m\u001b[43m(\u001b[49m\n\u001b[32m    223\u001b[39m \u001b[43m    \u001b[49m\u001b[38;5;28;43mself\u001b[39;49m\u001b[43m.\u001b[49m\u001b[43mpos_embed\u001b[49m\u001b[43m.\u001b[49m\u001b[43mshape\u001b[49m\u001b[43m[\u001b[49m\u001b[43m-\u001b[49m\u001b[32;43m1\u001b[39;49m\u001b[43m]\u001b[49m\u001b[43m,\u001b[49m\u001b[43m \u001b[49m\u001b[38;5;28;43mint\u001b[39;49m\u001b[43m(\u001b[49m\u001b[38;5;28;43mself\u001b[39;49m\u001b[43m.\u001b[49m\u001b[43mx_embedder\u001b[49m\u001b[43m.\u001b[49m\u001b[43mnum_patches\u001b[49m\u001b[43m*\u001b[49m\u001b[43m*\u001b[49m\u001b[32;43m0.5\u001b[39;49m\u001b[43m)\u001b[49m\n\u001b[32m    224\u001b[39m \u001b[43m\u001b[49m\u001b[43m)\u001b[49m\n\u001b[32m    225\u001b[39m \u001b[38;5;28mself\u001b[39m.pos_embed.data.copy_(torch.from_numpy(pos_embed).float().unsqueeze(\u001b[32m0\u001b[39m))\n\u001b[32m    227\u001b[39m \u001b[38;5;66;03m# Initialize patch_embed like nn.Linear (instead of nn.Conv2d):\u001b[39;00m\n",
      "    \u001b[31m[... skipping hidden 2 frame]\u001b[39m\n",
      "\u001b[36mFile \u001b[39m\u001b[32m~/f/diffusion-flow-experiments/src/modules.py:331\u001b[39m, in \u001b[36mget_2d_sincos_pos_embed\u001b[39m\u001b[34m(embed_dim, grid_size, cls_token, extra_tokens)\u001b[39m\n\u001b[32m    328\u001b[39m grid = np.stack(grid, axis=\u001b[32m0\u001b[39m)\n\u001b[32m    330\u001b[39m grid = grid.reshape([\u001b[32m2\u001b[39m, \u001b[32m1\u001b[39m, grid_size, grid_size])\n\u001b[32m--> \u001b[39m\u001b[32m331\u001b[39m pos_embed = \u001b[43mget_2d_sincos_pos_embed_from_grid\u001b[49m\u001b[43m(\u001b[49m\u001b[43membed_dim\u001b[49m\u001b[43m,\u001b[49m\u001b[43m \u001b[49m\u001b[43mgrid\u001b[49m\u001b[43m)\u001b[49m\n\u001b[32m    332\u001b[39m \u001b[38;5;28;01mif\u001b[39;00m cls_token \u001b[38;5;129;01mand\u001b[39;00m extra_tokens > \u001b[32m0\u001b[39m:\n\u001b[32m    333\u001b[39m     pos_embed = np.concatenate([np.zeros([extra_tokens, embed_dim]), pos_embed], axis=\u001b[32m0\u001b[39m)\n",
      "    \u001b[31m[... skipping hidden 2 frame]\u001b[39m\n",
      "\u001b[36mFile \u001b[39m\u001b[32m~/f/diffusion-flow-experiments/src/modules.py:344\u001b[39m, in \u001b[36mget_2d_sincos_pos_embed_from_grid\u001b[39m\u001b[34m(embed_dim, grid)\u001b[39m\n\u001b[32m    341\u001b[39m \u001b[38;5;28;01massert\u001b[39;00m embed_dim % \u001b[32m2\u001b[39m == \u001b[32m0\u001b[39m\n\u001b[32m    343\u001b[39m \u001b[38;5;66;03m# use half of dimensions to encode grid_h\u001b[39;00m\n\u001b[32m--> \u001b[39m\u001b[32m344\u001b[39m emb_h = \u001b[43mget_1d_sincos_pos_embed_from_grid\u001b[49m\u001b[43m(\u001b[49m\u001b[43membed_dim\u001b[49m\u001b[43m \u001b[49m\u001b[43m/\u001b[49m\u001b[43m/\u001b[49m\u001b[43m \u001b[49m\u001b[32;43m2\u001b[39;49m\u001b[43m,\u001b[49m\u001b[43m \u001b[49m\u001b[43mgrid\u001b[49m\u001b[43m[\u001b[49m\u001b[32;43m0\u001b[39;49m\u001b[43m]\u001b[49m\u001b[43m)\u001b[49m  \u001b[38;5;66;03m# (H*W, D/2)\u001b[39;00m\n\u001b[32m    345\u001b[39m emb_w = get_1d_sincos_pos_embed_from_grid(embed_dim // \u001b[32m2\u001b[39m, grid[\u001b[32m1\u001b[39m])  \u001b[38;5;66;03m# (H*W, D/2)\u001b[39;00m\n\u001b[32m    347\u001b[39m emb = np.concatenate([emb_h, emb_w], axis=\u001b[32m1\u001b[39m)  \u001b[38;5;66;03m# (H*W, D)\u001b[39;00m\n",
      "    \u001b[31m[... skipping hidden 1 frame]\u001b[39m\n",
      "\u001b[36mFile \u001b[39m\u001b[32m~/f/diffusion-flow-experiments/.venv/lib/python3.13/site-packages/jaxtyping/_decorator.py:470\u001b[39m, in \u001b[36mjaxtyped.<locals>.wrapped_fn_impl\u001b[39m\u001b[34m(args, kwargs, bound, memos)\u001b[39m\n\u001b[32m    468\u001b[39m             \u001b[38;5;28;01mraise\u001b[39;00m TypeCheckError(msg) \u001b[38;5;28;01mfrom\u001b[39;00m\u001b[38;5;250m \u001b[39m\u001b[38;5;28;01mNone\u001b[39;00m\n\u001b[32m    469\u001b[39m         \u001b[38;5;28;01melse\u001b[39;00m:\n\u001b[32m--> \u001b[39m\u001b[32m470\u001b[39m             \u001b[38;5;28;01mraise\u001b[39;00m TypeCheckError(msg) \u001b[38;5;28;01mfrom\u001b[39;00m\u001b[38;5;250m \u001b[39m\u001b[34;01me\u001b[39;00m\n\u001b[32m    472\u001b[39m \u001b[38;5;66;03m# Actually call the function.\u001b[39;00m\n\u001b[32m    473\u001b[39m out = fn(*args, **kwargs)\n",
      "\u001b[31mTypeCheckError\u001b[39m: Type-check error whilst checking the parameters of modules.get_1d_sincos_pos_embed_from_grid.\nThe problem arose whilst typechecking parameter 'pos'.\nActual value: f32[1,4,4](numpy)\nExpected type: <class 'Float[ndarray, 'num_positions']'>.\n----------------------\nCalled with parameters: {'embed_dim': 192, 'pos': f32[1,4,4](numpy)}\nParameter annotations: (embed_dim: int, pos: Float[ndarray, 'num_positions']) -> Any.\n"
     ]
    }
   ],
   "source": [
    "model = DiT_models[\"DiT-S/8\"]()"
   ]
  },
  {
   "cell_type": "code",
   "execution_count": null,
   "id": "b28d855d",
   "metadata": {},
   "outputs": [],
   "source": []
  }
 ],
 "metadata": {
  "kernelspec": {
   "display_name": ".venv",
   "language": "python",
   "name": "python3"
  },
  "language_info": {
   "codemirror_mode": {
    "name": "ipython",
    "version": 3
   },
   "file_extension": ".py",
   "mimetype": "text/x-python",
   "name": "python",
   "nbconvert_exporter": "python",
   "pygments_lexer": "ipython3",
   "version": "3.13.3"
  }
 },
 "nbformat": 4,
 "nbformat_minor": 5
}
